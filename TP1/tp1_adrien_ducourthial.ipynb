{
 "cells": [
  {
   "cell_type": "markdown",
   "metadata": {},
   "source": [
    "# TP 1 : acquisition d’un signal audio"
   ]
  },
  {
   "cell_type": "markdown",
   "metadata": {},
   "source": [
    "## Étude de la quantification\n",
    "### 1/ quantum\n",
    "On definie le quantum comme étant :\n",
    "q = 2A/2^N\n",
    "### 2/ Bruit de quantidication\n",
    "Avec un arrondisement au plus proche quantum on a:\n",
    "E(q) = 0\n",
    "et\n",
    "1/q de [-q/2;q/2]\n",
    "### 3/ Facteur de Charge\n",
    "On def le facteur de charge :\n",
    "F =  A/sqrt(var(x))\n",
    "### 4/ Oui\n"
   ]
  },
  {
   "cell_type": "markdown",
   "metadata": {},
   "source": [
    "## Rééchantillonnage et repliement spectral"
   ]
  },
  {
   "cell_type": "markdown",
   "metadata": {},
   "source": [
    "# En séance"
   ]
  },
  {
   "cell_type": "markdown",
   "metadata": {},
   "source": [
    "Import"
   ]
  },
  {
   "cell_type": "code",
   "execution_count": 3,
   "metadata": {},
   "outputs": [
    {
     "ename": "ModuleNotFoundError",
     "evalue": "No module named 'scipy'",
     "output_type": "error",
     "traceback": [
      "\u001b[0;31m---------------------------------------------------------------------------\u001b[0m",
      "\u001b[0;31mModuleNotFoundError\u001b[0m                       Traceback (most recent call last)",
      "\u001b[0;32m<ipython-input-3-64834fb31040>\u001b[0m in \u001b[0;36m<module>\u001b[0;34m\u001b[0m\n\u001b[1;32m      5\u001b[0m \u001b[0;32mimport\u001b[0m \u001b[0mnumpy\u001b[0m \u001b[0;32mas\u001b[0m \u001b[0mnp\u001b[0m\u001b[0;34m\u001b[0m\u001b[0;34m\u001b[0m\u001b[0m\n\u001b[1;32m      6\u001b[0m \u001b[0;32mfrom\u001b[0m \u001b[0mfiles\u001b[0m\u001b[0;34m.\u001b[0m\u001b[0mquantif\u001b[0m \u001b[0;32mimport\u001b[0m \u001b[0mquantif\u001b[0m\u001b[0;34m\u001b[0m\u001b[0;34m\u001b[0m\u001b[0m\n\u001b[0;32m----> 7\u001b[0;31m \u001b[0;32mfrom\u001b[0m \u001b[0mscipy\u001b[0m\u001b[0;34m.\u001b[0m\u001b[0mio\u001b[0m \u001b[0;32mimport\u001b[0m \u001b[0mwavfile\u001b[0m\u001b[0;34m\u001b[0m\u001b[0;34m\u001b[0m\u001b[0m\n\u001b[0m\u001b[1;32m      8\u001b[0m \u001b[0;32mimport\u001b[0m \u001b[0mpandas\u001b[0m \u001b[0;32mas\u001b[0m \u001b[0mpd\u001b[0m\u001b[0;34m\u001b[0m\u001b[0;34m\u001b[0m\u001b[0m\n\u001b[1;32m      9\u001b[0m \u001b[0mpd\u001b[0m\u001b[0;34m.\u001b[0m\u001b[0moptions\u001b[0m\u001b[0;34m.\u001b[0m\u001b[0mplotting\u001b[0m\u001b[0;34m.\u001b[0m\u001b[0mbackend\u001b[0m \u001b[0;34m=\u001b[0m \u001b[0;34m\"plotly\"\u001b[0m\u001b[0;34m\u001b[0m\u001b[0;34m\u001b[0m\u001b[0m\n",
      "\u001b[0;31mModuleNotFoundError\u001b[0m: No module named 'scipy'"
     ]
    }
   ],
   "source": [
    "import wave\n",
    "import sys\n",
    "import os\n",
    "import struct\n",
    "import numpy as np\n",
    "from files.quantif import quantif\n",
    "from scipy.io import wavfile\n",
    "import pandas as pd\n",
    "pd.options.plotting.backend = \"plotly\"\n",
    "import plotly.express as px"
   ]
  },
  {
   "cell_type": "markdown",
   "metadata": {},
   "source": [
    "Creation d'une class pour gérer plus facilement les data"
   ]
  },
  {
   "cell_type": "code",
   "execution_count": 2,
   "metadata": {
    "pycharm": {
     "name": "#%%\n"
    }
   },
   "outputs": [],
   "source": [
    "class QuantifierComparator:\n",
    "    bruit_nom = \"Bruit\"\n",
    "    norm_nom = \"Normalized\"\n",
    "    def __init__(self, file_path):\n",
    "        self.f = None\n",
    "        self.nb_frames,self.base_data = wavfile.read(file_path)\n",
    "        self.data = self.normalised_data = self.base_data / (2**15)\n",
    "        self.df = pd.DataFrame()\n",
    "        self.df[self.norm_nom] = self.data\n",
    "        self.quant_data = None\n",
    "        self.quant_step = None\n",
    "        self.quantized_value = None\n",
    "        self.n=8\n",
    "        self.a=1\n",
    "        self.rsb= None\n",
    "        self.var_signal = None\n",
    "        self.var_noice = None\n",
    "\n",
    "    def quantify(self, n=8, a=1):\n",
    "        self.n=n\n",
    "        self.a=a\n",
    "        [self.quant_data, self.quant_step, self.quantized_value] = quantif(self.normalised_data,a,n)\n",
    "\n",
    "    def pack_in_df(self):\n",
    "        self.df[self.norm_nom] = self.data\n",
    "        if self.quant_data is None:\n",
    "            print(\"WARNING : data has not been quantified, using base parameters\")\n",
    "            self.quantify()\n",
    "        self.df[f\"Quantified_n{self.n,}_a{ self.a}\"] = self.quant_data\n",
    "        self.df[self.bruit_nom] = self.df[f\"Quantified_n{self.n,}_a{ self.a}\"]-self.df[self.norm_nom]\n",
    "\n",
    "    def reset_dataframe(self):\n",
    "        self.df = pd.DataFrame()\n",
    "\n",
    "    def plot(self,plot_range = 300):\n",
    "        self.df.iloc[:plot_range].plot().show()\n",
    "\n",
    "    def plot_histo(self,name=None):\n",
    "        if self.df.empty:\n",
    "            print(\"empty dataframe, pack pls\")\n",
    "            return\n",
    "        if name is not None and name in self.df.columns:\n",
    "            fig = px.histogram(self.df[name],title=name)\n",
    "            fig.show()\n",
    "        else:\n",
    "            for _i in self.df.columns:\n",
    "                fig = px.histogram(self.df[_i],title=_i)\n",
    "                fig.show()\n",
    "\n",
    "    def calc_rsb(self):\n",
    "        if self.var_signal is None or self.var_noice is None:\n",
    "            self.calc_metrics()\n",
    "        self.rsb = self.var_signal/self.var_signal\n",
    "\n",
    "    def calc_f(self):\n",
    "        if self.rsb is None:\n",
    "            self.calc_rsb()\n",
    "        self.f = self.a/np.sqrt(self.var_signal)\n",
    "\n",
    "    def calc_metrics(self):\n",
    "        if self.bruit_nom not in self.df.columns:\n",
    "            print(self.df)\n",
    "            self.pack_in_df()\n",
    "            print(\"auto_packing\")\n",
    "        self.var_noice = self.df[self.bruit_nom].var()\n",
    "        self.var_signal = self.df[self.norm_nom].var()\n"
   ]
  },
  {
   "cell_type": "markdown",
   "metadata": {},
   "source": [
    "## 1 - Chargement du signal et normalisation"
   ]
  },
  {
   "cell_type": "code",
   "execution_count": 1,
   "metadata": {
    "pycharm": {
     "name": "#%%\n"
    }
   },
   "outputs": [
    {
     "ename": "NameError",
     "evalue": "name 'os' is not defined",
     "output_type": "error",
     "traceback": [
      "\u001b[1;31m---------------------------------------------------------------------------\u001b[0m",
      "\u001b[1;31mNameError\u001b[0m                                 Traceback (most recent call last)",
      "\u001b[1;32m~\\AppData\\Local\\Temp/ipykernel_17724/1947647669.py\u001b[0m in \u001b[0;36m<module>\u001b[1;34m\u001b[0m\n\u001b[1;32m----> 1\u001b[1;33m \u001b[1;32mif\u001b[0m \u001b[0mos\u001b[0m\u001b[1;33m.\u001b[0m\u001b[0mname\u001b[0m \u001b[1;33m==\u001b[0m \u001b[1;34m\"nt\"\u001b[0m\u001b[1;33m:\u001b[0m\u001b[1;33m\u001b[0m\u001b[1;33m\u001b[0m\u001b[0m\n\u001b[0m\u001b[0;32m      2\u001b[0m     \u001b[0mpath\u001b[0m \u001b[1;33m=\u001b[0m \u001b[1;34m\"files\\\\sine440.wav\"\u001b[0m\u001b[1;33m\u001b[0m\u001b[1;33m\u001b[0m\u001b[0m\n\u001b[0;32m      3\u001b[0m \u001b[1;32melse\u001b[0m\u001b[1;33m:\u001b[0m\u001b[1;33m\u001b[0m\u001b[1;33m\u001b[0m\u001b[0m\n\u001b[0;32m      4\u001b[0m     \u001b[0mpath\u001b[0m \u001b[1;33m=\u001b[0m \u001b[1;34m\"files/sine440.wav\"\u001b[0m\u001b[1;33m\u001b[0m\u001b[1;33m\u001b[0m\u001b[0m\n\u001b[0;32m      5\u001b[0m \u001b[0mquantifier\u001b[0m \u001b[1;33m=\u001b[0m \u001b[0mQuantifierComparator\u001b[0m\u001b[1;33m(\u001b[0m\u001b[0mpath\u001b[0m\u001b[1;33m)\u001b[0m\u001b[1;33m\u001b[0m\u001b[1;33m\u001b[0m\u001b[0m\n",
      "\u001b[1;31mNameError\u001b[0m: name 'os' is not defined"
     ]
    }
   ],
   "source": [
    "if os.name == \"nt\":\n",
    "    path = \"files\\\\sine440.wav\"\n",
    "else:\n",
    "    path = \"files/sine440.wav\"\n",
    "quantifier = QuantifierComparator(path)\n",
    "# quantifier.plot()\n",
    "# quantifier.plot_histo()"
   ]
  },
  {
   "cell_type": "markdown",
   "metadata": {},
   "source": [
    "## 2/ Quantifie for N = 4 and A = 1"
   ]
  },
  {
   "cell_type": "code",
   "execution_count": null,
   "metadata": {
    "pycharm": {
     "name": "#%%\n"
    }
   },
   "outputs": [],
   "source": [
    "quantifier.quantify(n=4,a=1)\n",
    "quantifier.pack_in_df()\n",
    "# quantifier.plot()\n",
    "# quantifier.plot_histo()"
   ]
  },
  {
   "cell_type": "markdown",
   "metadata": {},
   "source": [
    "## 3 /Noice properties :"
   ]
  },
  {
   "cell_type": "code",
   "execution_count": null,
   "metadata": {
    "pycharm": {
     "name": "#%%\n"
    }
   },
   "outputs": [],
   "source": [
    "quantifier.plot_histo(quantifier.bruit_nom)\n",
    "quantifier.calc_metrics()\n",
    "print(f\"Var of noice : {quantifier.var_noice}\")"
   ]
  },
  {
   "cell_type": "markdown",
   "metadata": {},
   "source": [
    "Mean of noice should be 0:"
   ]
  },
  {
   "cell_type": "code",
   "execution_count": 316,
   "metadata": {
    "pycharm": {
     "name": "#%%\n"
    }
   },
   "outputs": [
    {
     "name": "stdout",
     "output_type": "stream",
     "text": [
      "Mean of noice: 2.763190237032313e-05\n"
     ]
    }
   ],
   "source": [
    "print(f\"Mean of noice: {quantifier.df[quantifier.bruit_nom].mean()}\")"
   ]
  },
  {
   "cell_type": "markdown",
   "metadata": {},
   "source": [
    "## 4/ RSB pour A constant (A=1) et N entre [1;16]"
   ]
  },
  {
   "cell_type": "code",
   "execution_count": 317,
   "metadata": {
    "pycharm": {
     "name": "#%%\n"
    }
   },
   "outputs": [],
   "source": [
    "RSB_var_n = {}\n",
    "for i in range(1,17):\n",
    "    quantifier.quantify(n=i,a=1)\n",
    "    quantifier.pack_in_df()\n",
    "    quantifier.calc_metrics()\n",
    "    quantifier.calc_rsb()\n",
    "    RSB_var_n[i] = quantifier.rsb"
   ]
  },
  {
   "cell_type": "code",
   "execution_count": 318,
   "metadata": {
    "pycharm": {
     "name": "#%%\n"
    }
   },
   "outputs": [
    {
     "name": "stdout",
     "output_type": "stream",
     "text": [
      "{1: 1.0, 2: 1.0, 3: 1.0, 4: 1.0, 5: 1.0, 6: 1.0, 7: 1.0, 8: 1.0, 9: 1.0, 10: 1.0, 11: 1.0, 12: 1.0, 13: 1.0, 14: 1.0, 15: 1.0, 16: 1.0}\n"
     ]
    }
   ],
   "source": [
    "print(RSB_var_n)"
   ]
  },
  {
   "cell_type": "markdown",
   "metadata": {},
   "source": []
  },
  {
   "cell_type": "code",
   "execution_count": 296,
   "metadata": {
    "pycharm": {
     "name": "#%%\n"
    }
   },
   "outputs": [],
   "source": [
    "def quantnall(n=15, a=1):\n",
    "    quant4b = quantif(data_norm,1,4)\n",
    "    dff = pd.DataFrame(data_norm,columns=[\"norm\"])\n",
    "    quant4b = quantif(data_norm,a,n)\n",
    "    dff[\"Quant4bit\"] = quant4b[0]\n",
    "    dff[\"bruitQuant\"] = dff[\"Quant4bit\"]-dff[\"norm\"]\n",
    "    var_x = dff[\"norm\"].var()\n",
    "    var_b = dff[\"bruitQuant\"].var()\n",
    "    RSB = var_x/var_b\n",
    "    return RSB, dff\n"
   ]
  },
  {
   "cell_type": "code",
   "execution_count": 297,
   "metadata": {
    "pycharm": {
     "name": "#%%\n"
    }
   },
   "outputs": [],
   "source": [
    "data_ret = {}\n",
    "for i in range(2,15):\n",
    "    data_ret[i] = quantnall(i)"
   ]
  },
  {
   "cell_type": "code",
   "execution_count": null,
   "metadata": {
    "pycharm": {
     "name": "#%%\n"
    }
   },
   "outputs": [],
   "source": [
    "for i in data_ret.values():\n",
    "    i[1].iloc[:300].plot().show()"
   ]
  },
  {
   "cell_type": "code",
   "execution_count": 299,
   "metadata": {
    "pycharm": {
     "name": "#%%\n"
    }
   },
   "outputs": [],
   "source": [
    "data_reta = {}\n",
    "for i in range(1,50,):\n",
    "    data_reta[i] = quantnall(n=8,a=i)"
   ]
  },
  {
   "cell_type": "code",
   "execution_count": 299,
   "metadata": {
    "pycharm": {
     "name": "#%%\n"
    }
   },
   "outputs": [],
   "source": []
  },
  {
   "cell_type": "code",
   "execution_count": null,
   "metadata": {
    "pycharm": {
     "name": "#%%\n"
    }
   },
   "outputs": [],
   "source": [
    "for i in data_reta.values():\n",
    "    i[1].iloc[:300].plot().show()"
   ]
  },
  {
   "cell_type": "code",
   "execution_count": 300,
   "metadata": {
    "pycharm": {
     "name": "#%%\n"
    }
   },
   "outputs": [],
   "source": []
  },
  {
   "cell_type": "code",
   "execution_count": null,
   "metadata": {
    "pycharm": {
     "name": "#%%\n"
    }
   },
   "outputs": [],
   "source": [
    "temp_data=  {}\n",
    "for i,j in data_reta.items():\n",
    "    temp_data[i] = j[0]\n",
    "\n",
    "pd.DataFrame(temp_data.values(),index=temp_data.keys()).plot()"
   ]
  },
  {
   "cell_type": "code",
   "execution_count": 302,
   "metadata": {
    "pycharm": {
     "name": "#%%\n"
    }
   },
   "outputs": [],
   "source": [
    "temep_data=  {}\n",
    "for i,j in data_reta.items():\n",
    "    temp_data[i] = j[0]"
   ]
  },
  {
   "cell_type": "markdown",
   "metadata": {},
   "source": [
    "Rééchantillonnage et repliement spectral"
   ]
  },
  {
   "cell_type": "code",
   "execution_count": 2,
   "metadata": {
    "pycharm": {
     "name": "#%%\n"
    }
   },
   "outputs": [
    {
     "ename": "NameError",
     "evalue": "name 'wavfile' is not defined",
     "output_type": "error",
     "traceback": [
      "\u001b[0;31m---------------------------------------------------------------------------\u001b[0m",
      "\u001b[0;31mNameError\u001b[0m                                 Traceback (most recent call last)",
      "\u001b[0;32m<ipython-input-2-fa5565c6bf8f>\u001b[0m in \u001b[0;36m<module>\u001b[0;34m\u001b[0m\n\u001b[0;32m----> 1\u001b[0;31m \u001b[0mfreq\u001b[0m\u001b[0;34m,\u001b[0m \u001b[0mdata\u001b[0m \u001b[0;34m=\u001b[0m \u001b[0mwavfile\u001b[0m\u001b[0;34m.\u001b[0m\u001b[0mread\u001b[0m\u001b[0;34m(\u001b[0m\u001b[0;34m\"files/rythmique.wav\"\u001b[0m\u001b[0;34m)\u001b[0m\u001b[0;34m\u001b[0m\u001b[0;34m\u001b[0m\u001b[0m\n\u001b[0m",
      "\u001b[0;31mNameError\u001b[0m: name 'wavfile' is not defined"
     ]
    }
   ],
   "source": [
    "freq, data = wavfile.read(\"files\\\\rythmique.wav\")"
   ]
  },
  {
   "cell_type": "markdown",
   "metadata": {},
   "source": []
  }
 ],
 "metadata": {
  "kernelspec": {
   "display_name": "Python 3",
   "language": "python",
   "name": "python3"
  },
  "language_info": {
   "codemirror_mode": {
    "name": "ipython",
    "version": 3
   },
   "file_extension": ".py",
   "mimetype": "text/x-python",
   "name": "python",
   "nbconvert_exporter": "python",
   "pygments_lexer": "ipython3",
   "version": "3.8.10"
  }
 },
 "nbformat": 4,
 "nbformat_minor": 1
}
